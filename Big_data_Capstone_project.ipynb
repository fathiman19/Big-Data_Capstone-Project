{
  "nbformat": 4,
  "nbformat_minor": 0,
  "metadata": {
    "colab": {
      "provenance": []
    },
    "kernelspec": {
      "name": "python3",
      "display_name": "Python 3"
    },
    "language_info": {
      "name": "python"
    }
  },
  "cells": [
    {
      "cell_type": "code",
      "source": [
        "import pandas as pd\n",
        "from pyspark.sql import SparkSession\n",
        "from pyspark.sql.functions import col, avg, sum as _sum\n",
        "\n",
        "# Load the dataset\n",
        "file_path = '/content/World Energy Consumption.csv'\n",
        "data = pd.read_csv(file_path)\n",
        "\n",
        "# Filter relevant columns and handle missing values\n",
        "data = data[[\n",
        "    \"country\", \"year\", \"population\", \"gdp\", \"biofuel_consumption\",\n",
        "    \"solar_share_elec\", \"wind_share_elec\"\n",
        "]].dropna()\n",
        "\n",
        "# Convert to Spark DataFrame\n",
        "spark = SparkSession.builder \\\n",
        "    .appName(\"Energy Consumption Optimization\") \\\n",
        "    .getOrCreate()\n",
        "spark_data = spark.createDataFrame(data)\n",
        "\n",
        "# Analyze average renewable energy shares by country\n",
        "renewable_shares = spark_data.groupBy(\"country\").agg(\n",
        "    avg(\"solar_share_elec\").alias(\"avg_solar_share\"),\n",
        "    avg(\"wind_share_elec\").alias(\"avg_wind_share\")\n",
        ").orderBy(col(\"avg_solar_share\").desc(), col(\"avg_wind_share\").desc())\n",
        "\n",
        "# Identify countries with the highest renewable energy adoption\n",
        "top_renewable_countries = renewable_shares.limit(10)\n",
        "\n",
        "# Show results\n",
        "print(\"Top 10 Countries by Renewable Energy Share:\")\n",
        "top_renewable_countries.show()\n",
        "\n",
        "# Save results to disk\n",
        "output_path = \"optimized_energy_results\"\n",
        "top_renewable_countries.write.csv(f\"{output_path}/top_countries\", header=True)\n",
        "\n",
        "# Stop Spark session\n",
        "spark.stop()\n"
      ],
      "metadata": {
        "colab": {
          "base_uri": "https://localhost:8080/"
        },
        "id": "m-Rn3vpF9GSh",
        "outputId": "b2fa749d-5d68-4989-db4e-f55b743cd5bb"
      },
      "execution_count": 3,
      "outputs": [
        {
          "output_type": "stream",
          "name": "stdout",
          "text": [
            "Top 10 Countries by Renewable Energy Share:\n",
            "+-----------+------------------+-------------------+\n",
            "|    country|   avg_solar_share|     avg_wind_share|\n",
            "+-----------+------------------+-------------------+\n",
            "|      Italy|3.9041333333333332| 3.5147333333333335|\n",
            "|      Spain|2.2370526315789476| 11.850736842105265|\n",
            "| Luxembourg| 2.069551724137931| 3.9652758620689657|\n",
            "|    Germany|1.7826296296296296|  5.390666666666667|\n",
            "|     Greece|1.6276896551724136| 3.2833448275862067|\n",
            "|      Japan|1.5212352941176472| 0.3737647058823529|\n",
            "|     Cyprus|1.4255833333333332| 2.8690833333333337|\n",
            "|    Romania|           1.22475|  5.566666666666667|\n",
            "|Switzerland|1.2080909090909093|0.13345454545454546|\n",
            "|    Denmark| 1.060230769230769|  31.31161538461538|\n",
            "+-----------+------------------+-------------------+\n",
            "\n"
          ]
        }
      ]
    }
  ]
}